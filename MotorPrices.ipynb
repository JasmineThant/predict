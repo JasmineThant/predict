{
 "cells": [
  {
   "cell_type": "code",
   "execution_count": 1,
   "id": "ac50855f",
   "metadata": {},
   "outputs": [
    {
     "name": "stdout",
     "output_type": "stream",
     "text": [
      "Requirement already satisfied: scikit-learn in c:\\users\\jasmine.thant\\appdata\\local\\anaconda3\\lib\\site-packages (1.2.1)\n",
      "Requirement already satisfied: pandas in c:\\users\\jasmine.thant\\appdata\\local\\anaconda3\\lib\\site-packages (1.5.3)\n",
      "Requirement already satisfied: flask in c:\\users\\jasmine.thant\\appdata\\local\\anaconda3\\lib\\site-packages (2.2.2)\n",
      "Requirement already satisfied: numpy in c:\\users\\jasmine.thant\\appdata\\local\\anaconda3\\lib\\site-packages (1.23.5)\n",
      "Requirement already satisfied: scipy>=1.3.2 in c:\\users\\jasmine.thant\\appdata\\local\\anaconda3\\lib\\site-packages (from scikit-learn) (1.10.0)\n",
      "Requirement already satisfied: threadpoolctl>=2.0.0 in c:\\users\\jasmine.thant\\appdata\\local\\anaconda3\\lib\\site-packages (from scikit-learn) (2.2.0)\n",
      "Requirement already satisfied: joblib>=1.1.1 in c:\\users\\jasmine.thant\\appdata\\local\\anaconda3\\lib\\site-packages (from scikit-learn) (1.1.1)\n",
      "Requirement already satisfied: python-dateutil>=2.8.1 in c:\\users\\jasmine.thant\\appdata\\local\\anaconda3\\lib\\site-packages (from pandas) (2.8.2)\n",
      "Requirement already satisfied: pytz>=2020.1 in c:\\users\\jasmine.thant\\appdata\\local\\anaconda3\\lib\\site-packages (from pandas) (2022.7)\n",
      "Requirement already satisfied: itsdangerous>=2.0 in c:\\users\\jasmine.thant\\appdata\\local\\anaconda3\\lib\\site-packages (from flask) (2.0.1)\n",
      "Requirement already satisfied: Werkzeug>=2.2.2 in c:\\users\\jasmine.thant\\appdata\\local\\anaconda3\\lib\\site-packages (from flask) (2.2.2)\n",
      "Requirement already satisfied: click>=8.0 in c:\\users\\jasmine.thant\\appdata\\local\\anaconda3\\lib\\site-packages (from flask) (8.0.4)\n",
      "Requirement already satisfied: Jinja2>=3.0 in c:\\users\\jasmine.thant\\appdata\\local\\anaconda3\\lib\\site-packages (from flask) (3.1.2)\n",
      "Requirement already satisfied: colorama in c:\\users\\jasmine.thant\\appdata\\local\\anaconda3\\lib\\site-packages (from click>=8.0->flask) (0.4.6)\n",
      "Requirement already satisfied: MarkupSafe>=2.0 in c:\\users\\jasmine.thant\\appdata\\local\\anaconda3\\lib\\site-packages (from Jinja2>=3.0->flask) (2.1.1)\n",
      "Requirement already satisfied: six>=1.5 in c:\\users\\jasmine.thant\\appdata\\local\\anaconda3\\lib\\site-packages (from python-dateutil>=2.8.1->pandas) (1.16.0)\n",
      "Note: you may need to restart the kernel to use updated packages.\n"
     ]
    }
   ],
   "source": [
    "pip install scikit-learn pandas flask numpy"
   ]
  },
  {
   "cell_type": "code",
   "execution_count": 11,
   "id": "d8f45a5f",
   "metadata": {},
   "outputs": [],
   "source": [
    "import pandas as pd"
   ]
  },
  {
   "cell_type": "code",
   "execution_count": 19,
   "id": "0c0ea6a9",
   "metadata": {},
   "outputs": [],
   "source": [
    "#data = {\n",
    "#    'TITLE':['MR','MS'],\n",
    "#    'BANK':['NO FINANCE','FINANCE'],\n",
    "#    'DOB':['07/01/1967','02/04/1967'],\n",
    "#    'OCCUPATION':['DIRECTOR','SALES DIRECTOR']\n",
    "#}\n",
    "data = {\n",
    "    'Year': [2010, 2012, 2015, 2018, 2020],\n",
    "    'Mileage': [50000, 30000, 40000, 25000, 10000],\n",
    "    'Horsepower': [150, 200, 180, 220, 250],\n",
    "    'Price': [10000, 12000, 15000, 20000, 30000]\n",
    "}\n",
    "df = pd.DataFrame(data)"
   ]
  },
  {
   "cell_type": "code",
   "execution_count": 21,
   "id": "d9ef4975",
   "metadata": {},
   "outputs": [],
   "source": [
    "from sklearn.model_selection import train_test_split\n",
    "#X = df[['TITLE','BANK','DOB']]\n",
    "#y = df['OCCUPATION']\n",
    "X = df[['Year', 'Mileage', 'Horsepower']]\n",
    "y = df['Price']\n",
    "# Split the data into training and testing sets\n",
    "X_train, X_test, y_train, y_test = train_test_split(X,y, test_size=0.2, random_state=42)"
   ]
  },
  {
   "cell_type": "code",
   "execution_count": 22,
   "id": "74cf8689",
   "metadata": {},
   "outputs": [
    {
     "name": "stdout",
     "output_type": "stream",
     "text": [
      "Model Accuracy: nan\n"
     ]
    },
    {
     "name": "stderr",
     "output_type": "stream",
     "text": [
      "C:\\Users\\jasmine.thant\\AppData\\Local\\anaconda3\\lib\\site-packages\\sklearn\\metrics\\_regression.py:918: UndefinedMetricWarning: R^2 score is not well-defined with less than two samples.\n",
      "  warnings.warn(msg, UndefinedMetricWarning)\n"
     ]
    }
   ],
   "source": [
    "from sklearn.linear_model import LinearRegression\n",
    "model = LinearRegression()\n",
    "# Train the model on the training data\n",
    "model.fit(X_train, y_train)\n",
    "# Evaluate the model's accuracy on the test set\n",
    "accuracy = model.score(X_test, y_test)\n",
    "print(f\"Model Accuracy: {accuracy}\")"
   ]
  },
  {
   "cell_type": "code",
   "execution_count": 23,
   "id": "c5f65781",
   "metadata": {},
   "outputs": [],
   "source": [
    "import pickle\n",
    "# Save the model to a file\n",
    "with open('car_price_model.pkl', 'wb') as file:\n",
    "    pickle.dump(model, file)"
   ]
  },
  {
   "cell_type": "code",
   "execution_count": null,
   "id": "fb23455d",
   "metadata": {},
   "outputs": [],
   "source": []
  }
 ],
 "metadata": {
  "kernelspec": {
   "display_name": "Python 3 (ipykernel)",
   "language": "python",
   "name": "python3"
  },
  "language_info": {
   "codemirror_mode": {
    "name": "ipython",
    "version": 3
   },
   "file_extension": ".py",
   "mimetype": "text/x-python",
   "name": "python",
   "nbconvert_exporter": "python",
   "pygments_lexer": "ipython3",
   "version": "3.10.9"
  }
 },
 "nbformat": 4,
 "nbformat_minor": 5
}
